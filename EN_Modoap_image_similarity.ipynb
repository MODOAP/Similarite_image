{
  "nbformat": 4,
  "nbformat_minor": 0,
  "metadata": {
    "colab": {
      "name": "Nanterre_Modoap_Similarite_image.ipynb",
      "provenance": [],
      "collapsed_sections": []
    },
    "kernelspec": {
      "name": "python3",
      "display_name": "Python 3"
    },
    "gpuClass": "standard"
  },
  "cells": [
    {
      "cell_type": "markdown",
      "metadata": {
        "id": "x1em4rMcjcR_"
      },
      "source": [
        "# ***MODOAP - Image Similarity***"
      ]
    },
    {
      "cell_type": "markdown",
      "metadata": {
        "id": "oO83QBzXVbSC"
      },
      "source": [
        "This notebook calculates the distance/similarity between one given image and each image of a dataset stored in a Google Drive.\n",
        "\n",
        "Two steps to follow :\n",
        "1. Creation of a similarity model from the images of the dataset\n",
        "2. Submit a local or web image and request for the n nearest neighbors in the model\n",
        "\n",
        "The code is based on the library turicreate : https://github.com/apple/turicreate\n",
        "\n",
        "**The runtime must be set to GPU (Runtime -> Change Runtime Type -> GPU)**"
      ]
    },
    {
      "cell_type": "code",
      "metadata": {
        "id": "rebZfEAOAUlx",
        "cellView": "form"
      },
      "source": [
        "#@markdown ### Connect to Google Drive and install libraries\n",
        "\n",
        "#@markdown At first start you may need to restart the runtime if asked.\n",
        "\n",
        "from google.colab import drive\n",
        "import os\n",
        "\n",
        "if not os.path.exists(\"/content/drive/My Drive\"):\n",
        "  drive.mount('/content/drive')\n",
        "else : print(\"Drive already mounted\")\n",
        "\n",
        "!apt install libnvrtc8.0\n",
        "!pip install turicreate\n",
        "\n",
        "import turicreate as tc\n",
        "from IPython.display import display\n",
        "from IPython.display import HTML\n",
        "from PIL import Image\n",
        "from io import BytesIO\n",
        "import glob\n",
        "import random\n",
        "import base64\n",
        "import pandas as pd\n",
        "from zipfile import ZipFile\n",
        "from shutil import copy\n",
        "from pydrive.auth import GoogleAuth\n",
        "from pydrive.drive import GoogleDrive\n",
        "from google.colab import auth\n",
        "from oauth2client.client import GoogleCredentials\n",
        "from google.colab import files\n",
        "from google.colab import drive\n",
        "from time import gmtime, strftime\n",
        "import shutil\n",
        "\n",
        "def get_thumbnail(path):\n",
        "  i = Image.open(path)\n",
        "  i.thumbnail((150, 150), Image.LANCZOS)\n",
        "  return i\n",
        "  \n",
        "def get_thumbnail_from_image(img):\n",
        "  i = img.copy()\n",
        "  i.thumbnail((150, 150), Image.LANCZOS)\n",
        "  return i\n",
        "\n",
        "def image_base64(im):\n",
        "  if isinstance(im, str):\n",
        "    im = get_thumbnail(im)\n",
        "  with BytesIO() as buffer:\n",
        "    im.save(buffer, 'jpeg')\n",
        "    return base64.b64encode(buffer.getvalue()).decode()\n",
        "\n",
        "def image_formatter(im):\n",
        "  return f'<img style=\"display:inline;margin:1px\" src=\"data:image/jpeg;base64,{image_base64(im)}\">'\n",
        "  \n",
        "def preview_images(reference_data, num_previews=30):\n",
        "  images = list(map(lambda x:image_formatter(get_thumbnail(x)), reference_data[0:num_previews]['path']))\n",
        "  display(HTML(''.join(images)))\n",
        "\n",
        "# Use all GPUs (default)\n",
        "tc.config.set_num_gpus(-1) \n",
        "\n",
        "# Use only 1 GPU\n",
        "#tc.config.set_num_gpus(1)\n",
        "\n",
        "# Use CPU\n",
        "#tc.config.set_num_gpus(0)"
      ],
      "execution_count": null,
      "outputs": []
    },
    {
      "cell_type": "markdown",
      "source": [
        "# Step 1"
      ],
      "metadata": {
        "id": "e34sclDOex_Z"
      }
    },
    {
      "cell_type": "code",
      "source": [
        "\n",
        "#@markdown ### Create a similarity model from a dataset\n",
        "#@markdown Enter a path to a folder containing the image files :\n",
        "corpus = \"/content/drive/MyDrive/EDUC/Image_SImilarity_WS/images_kagan\" #@param {type:\"string\"}\n",
        "#@markdown Enter a path to a destination folder to save the model  :\n",
        "\n",
        "destination_modele = \"/content/drive/MyDrive/EDUC/Image_SImilarity_WS/modele2\" #@param {type:\"string\"}\n",
        "\n",
        "if not os.path.exists(destination_modele):\n",
        "  os.makedirs(destination_modele)\n",
        "# Load images from a folder\n",
        "reference_data = tc.image_analysis.load_images(corpus)\n",
        "reference_data = reference_data.add_row_number()\n",
        "# From the path-name, create a label column\n",
        "reference_data['label'] = reference_data['path'].apply(lambda path: path.split('/')[-2])\n",
        "reference_data.groupby('label', [tc.aggregate.COUNT]).sort(\"Count\", ascending = False)\n",
        "# Save the SFrame for future use\n",
        "reference_data.save(os.path.join(destination_modele,'reference_data.sframe'))\n",
        "reference_data.groupby('label', [tc.aggregate.COUNT]).sort(\"Count\", ascending = False)\n",
        "reference_data.head()\n",
        "\n",
        "# create an image similarity model using the data\n",
        "model = tc.image_similarity.create(reference_data)\n",
        "# saving the model\n",
        "model.save(os.path.join(destination_modele,'image_similarity.model'))"
      ],
      "metadata": {
        "cellView": "form",
        "id": "N_Qh-KwaAd8i"
      },
      "execution_count": null,
      "outputs": []
    },
    {
      "cell_type": "code",
      "source": [
        "#@markdown ### Import a model\n",
        "#@markdown If you've already created a model you can import its two files.\n",
        "\n",
        "#@markdown Enter the file paths :\n",
        "\n",
        "sframe = \"\" #@param {type:\"string\"}\n",
        "modele = \"\" #@param {type:\"string\"}\n",
        "\n",
        "reference_data = tc.load_sframe(sframe)\n",
        "model = tc.load_model(modele)"
      ],
      "metadata": {
        "cellView": "form",
        "id": "rnVNUSaPBwsS"
      },
      "execution_count": null,
      "outputs": []
    },
    {
      "cell_type": "code",
      "source": [
        "#@markdown ### Dataset preview (optional)\n",
        "\n",
        "#@markdown Number of images to preview :\n",
        "img = 40 #@param {type:\"slider\", min:0, max:40, step:1}\n",
        "\n",
        "preview_images(reference_data, int(img))"
      ],
      "metadata": {
        "cellView": "form",
        "id": "V5rGPKu4div2"
      },
      "execution_count": null,
      "outputs": []
    },
    {
      "cell_type": "markdown",
      "source": [
        "# Step 2"
      ],
      "metadata": {
        "id": "S6ccxZRVfRdR"
      }
    },
    {
      "cell_type": "code",
      "source": [
        "#@markdown ### Request the N nearest neighbors of an image\n",
        "\n",
        "#@markdown Enter the url of a local or web-based image :\n",
        "image_url = \"\" #@param {type:\"string\"}\n",
        "\n",
        "#@markdown Example :\n",
        "#@markdown https://apprendre-la-photo.fr/wp-content/uploads/2011/06/photo-portrait_apprendre-la-photo_laurent-breillat-6-947x511.jpg\n",
        "\n",
        "#@markdown Enter the value of N : the number of similar images to show\n",
        "N = \"3\"#@param {type:\"string\"}\n",
        "\n",
        "nb_images = N\n",
        "print(\"Image request : \")\n",
        "sample_image = tc.Image(image_url)\n",
        "si_height = sample_image.height \n",
        "si_width = sample_image.width\n",
        "if int(si_height) > 600 :\n",
        "  sample_image = tc.image_analysis.resize(sample_image, 320, 240)\n",
        "  display(sample_image)\n",
        "else : \n",
        "  display(sample_image)\n",
        "\n",
        "print(\"-----------------------------------------\")\n",
        "query_results = model.query(sample_image, k=int(nb_images))\n",
        "\n",
        "similar_rows = query_results[query_results['query_label'] == 0]['reference_label']\n",
        "similar_rows_data = reference_data.filter_by(similar_rows, 'id')\n",
        "\n",
        "print(\"--------------------------------------------------------------\")\n",
        "print(\"Showing {} nearest neighbors : \".format(nb_images))\n",
        "print(\"--------------------------------------------------------------\")\n",
        "if os.path.isfile(similar_rows_data[0][\"path\"]) :\n",
        "  for idi in similar_rows :\n",
        "    chem1 = similar_rows_data[similar_rows_data['id'] == idi]['path'][0]   \n",
        "    piil = Image.open(chem1)\n",
        "    display(piil)\n",
        "else :\n",
        "  for row in similar_rows_data :\n",
        "    print(row[\"path\"])\n",
        "  print(\"(Problem in importation) \")\n"
      ],
      "metadata": {
        "cellView": "form",
        "id": "xpHpHnjACn-j"
      },
      "execution_count": null,
      "outputs": []
    }
  ]
}