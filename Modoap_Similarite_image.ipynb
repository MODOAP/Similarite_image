{
  "nbformat": 4,
  "nbformat_minor": 0,
  "metadata": {
    "colab": {
      "name": "Nanterre_Modoap_Similarite_image.ipynb",
      "provenance": [],
      "collapsed_sections": [],
      "toc_visible": true
    },
    "kernelspec": {
      "name": "python3",
      "display_name": "Python 3"
    }
  },
  "cells": [
    {
      "cell_type": "markdown",
      "metadata": {
        "id": "x1em4rMcjcR_"
      },
      "source": [
        "# ***MODOAP - Calcul de similarité entre images***"
      ]
    },
    {
      "cell_type": "markdown",
      "metadata": {
        "id": "oO83QBzXVbSC"
      },
      "source": [
        "Ce notebook permet de calculer la similarité entre une image donnée et les images d'un corpus présent sur un Google Drive.\n",
        "Il dispose de trois fonctionnalités :\n",
        "1. Vectorisation d'un corpus / création d'un modèle à requêter\n",
        "2. Requête des n plus proches images sur un modèle importé, à partir d'une image donnée en entrée.\n",
        "3. Repérage et sauvegarde des doublons\n",
        "\n",
        "Il implémente la bibliothèque turicreate : https://github.com/apple/turicreate\n",
        "\n",
        "**Le mode GPU est nécessaire (Runtime -> Change Runtime Type -> GPU)**"
      ]
    },
    {
      "cell_type": "markdown",
      "metadata": {
        "id": "ihzf5ih94aWu"
      },
      "source": [
        "## 0. Connexion à un compte Google Drive, création de l'architecture et installation des pré-requis\n",
        "\n",
        "Nécessite de se connecter à son compte Google Drive et d'entrer un code de vérification.\n",
        "\n",
        "Crée un dossier Outils_Modoap sur le Drive qui servira à stocker les modèles générés et les doublons repérés."
      ]
    },
    {
      "cell_type": "code",
      "metadata": {
        "id": "rebZfEAOAUlx"
      },
      "source": [
        "from google.colab import drive\n",
        "import os\n",
        "\n",
        "if not os.path.exists(\"/content/drive/My Drive\"):\n",
        "  drive.mount('/content/drive')\n",
        "else : print(\"Le Drive est déjà monté\")\n",
        "\n",
        "if not os.path.exists(\"/content/drive/My Drive/Outils_Modoap/Similarite\"):\n",
        "  os.makedirs('/content/drive/My Drive/Outils_Modoap/Similarite/Doublons')\n",
        "  os.makedirs('/content/drive/My Drive/Outils_Modoap/Similarite/Modeles')\n",
        "\n",
        "!apt install libnvrtc8.0\n",
        "!pip install turicreate\n",
        "\n",
        "import turicreate as tc\n",
        "from IPython.display import display\n",
        "from IPython.display import HTML\n",
        "from PIL import Image\n",
        "from io import BytesIO\n",
        "import glob\n",
        "import random\n",
        "import base64\n",
        "import pandas as pd\n",
        "from zipfile import ZipFile\n",
        "from shutil import copy\n",
        "from pydrive.auth import GoogleAuth\n",
        "from pydrive.drive import GoogleDrive\n",
        "from google.colab import auth\n",
        "from oauth2client.client import GoogleCredentials\n",
        "from google.colab import files\n",
        "from google.colab import drive\n",
        "from time import gmtime, strftime\n",
        "import shutil\n",
        "\n",
        "def get_thumbnail(path):\n",
        "  i = Image.open(path)\n",
        "  i.thumbnail((150, 150), Image.LANCZOS)\n",
        "  return i\n",
        "  \n",
        "def get_thumbnail_from_image(img):\n",
        "  i = img.copy()\n",
        "  i.thumbnail((150, 150), Image.LANCZOS)\n",
        "  return i\n",
        "\n",
        "def image_base64(im):\n",
        "  if isinstance(im, str):\n",
        "    im = get_thumbnail(im)\n",
        "  with BytesIO() as buffer:\n",
        "    im.save(buffer, 'jpeg')\n",
        "    return base64.b64encode(buffer.getvalue()).decode()\n",
        "\n",
        "def image_formatter(im):\n",
        "  return f'<img style=\"display:inline;margin:1px\" src=\"data:image/jpeg;base64,{image_base64(im)}\">'\n",
        "  \n",
        "def preview_images(reference_data, num_previews=30):\n",
        "  images = list(map(lambda x:image_formatter(get_thumbnail(x)), reference_data[0:num_previews]['path']))\n",
        "  display(HTML(''.join(images)))\n",
        "\n",
        "# Use all GPUs (default)\n",
        "tc.config.set_num_gpus(-1) \n",
        "\n",
        "# Use only 1 GPU\n",
        "#tc.config.set_num_gpus(1)\n",
        "\n",
        "# Use CPU\n",
        "#tc.config.set_num_gpus(0)"
      ],
      "execution_count": null,
      "outputs": []
    },
    {
      "cell_type": "markdown",
      "metadata": {
        "id": "MWGwlyaub-Nx"
      },
      "source": [
        "## 1. Préparation d'un corpus"
      ]
    },
    {
      "cell_type": "markdown",
      "metadata": {
        "id": "A2OaYsD9ctGg"
      },
      "source": [
        "Le corpus doit être sous forme d'un dossier contenant directement les images. \n",
        "\n",
        "Si les images du corpus sont réparties en classes, elles peuvent être rangées dans des dossiers dont les noms sont identiques aux classes.\n",
        "\n",
        "Deux possibilités au choix pour importer le corpus :\n",
        "\n",
        "- 1.1 Utiliser un corpus présent sur le drive\n",
        "- 1.2 Télécharger un mini corpus exemple"
      ]
    },
    {
      "cell_type": "markdown",
      "metadata": {
        "id": "OkpoZAeZHWMc"
      },
      "source": [
        "**1.1 Utiliser un corpus présent sur le drive**\n",
        "\n",
        "Lancer la cellule et entrer le chemin absolu du dossier sur le drive contenant le corpus. La racine du Google Drive connecté est /content/drive/My Drive/\n",
        "\n",
        "Possibilité de copier/coller le chemin depuis la fenêtre de gauche : Files -> clic droit sur un dossier -> Copy Path\n",
        "\n",
        "Exemple de chemin:\n",
        "\n",
        "/content/drive/My Drive/Corpus/corpus_pour_similarite/ "
      ]
    },
    {
      "cell_type": "code",
      "metadata": {
        "id": "D7EuqPhBlLga"
      },
      "source": [
        "corpus = input(\"Entrer le chemin absolu du dossier contenant le corpus\")"
      ],
      "execution_count": null,
      "outputs": []
    },
    {
      "cell_type": "markdown",
      "metadata": {
        "id": "g1P4EC4SJO3i"
      },
      "source": [
        "**1.2 Télécharger un mini corpus exemple**\n",
        "\n",
        "Télécharge le corpus sur le drive"
      ]
    },
    {
      "cell_type": "code",
      "metadata": {
        "id": "w4uLwQcAlPxG"
      },
      "source": [
        "if not os.path.exists(\"/content/drive/My Drive/Outils_Modoap/Corpus_demonstrations/corpus_similarite/\"):\n",
        "  os.makedirs('/content/drive/My Drive/Outils_Modoap/Corpus_demonstrations/corpus_similarite/')\n",
        "%cd /content/drive/My Drive/Outils_Modoap/Corpus_demonstrations/corpus_similarite/\n",
        "!wget https://github.com/MODOAP/corpus_test/releases/download/1/simcorp.zip\n",
        "!7z x ./simcorp.zip\n",
        "os.remove(\"/content/drive/My Drive/Outils_Modoap/Corpus_demonstrations/corpus_similarite/simcorp.zip\")\n",
        "corpus = \"/content/drive/My Drive/Outils_Modoap/Corpus_demonstrations/corpus_similarite/\""
      ],
      "execution_count": null,
      "outputs": []
    },
    {
      "cell_type": "markdown",
      "metadata": {
        "id": "IhfyrOTW8JHR"
      },
      "source": [
        "**1.3 Création et sauvegarde du modèle à partir du corpus**\n",
        "\n",
        "Enregistre le modèle sur le drive dans /content/drive/My Drive/Outils_Modoap/Similarite/Modeles/"
      ]
    },
    {
      "cell_type": "code",
      "metadata": {
        "id": "uYzIC6e3l_-h"
      },
      "source": [
        "# Load images from a folder\n",
        "reference_data = tc.image_analysis.load_images(corpus)\n",
        "reference_data = reference_data.add_row_number()\n",
        "# From the path-name, create a label column\n",
        "reference_data['label'] = reference_data['path'].apply(lambda path: path.split('/')[-2])\n",
        "reference_data.groupby('label', [tc.aggregate.COUNT]).sort(\"Count\", ascending = False)\n",
        "# Save the SFrame for future use\n",
        "reference_data.save('/content/drive/My Drive/Outils_Modoap/Similarite/Modeles/reference_data.sframe')\n",
        "reference_data.groupby('label', [tc.aggregate.COUNT]).sort(\"Count\", ascending = False)\n",
        "reference_data.head()\n",
        "\n",
        "# create an image similarity model using the data\n",
        "model = tc.image_similarity.create(reference_data)\n",
        "# saving the model\n",
        "%cd /content/drive/My Drive/Outils_Modoap/Similarite/Modeles\n",
        "nom_modele = \"ModeleSimilarite_\"+str(strftime(\"%Y-%m-%d %H:%M:%S\", gmtime())).replace(\" \",\"_\")+\".zip\"\n",
        "model.save('./image_similarity.model')\n",
        "!zip -r ./$nom_modele ./image_similarity.model ./reference_data.sframe\n",
        "!rm -r ./image_similarity.model\n",
        "!rm -r ./reference_data.sframe"
      ],
      "execution_count": null,
      "outputs": []
    },
    {
      "cell_type": "markdown",
      "metadata": {
        "id": "zp9M310QdaKw"
      },
      "source": [
        "**1.4 Prévisualisation du corpus** (optionnel)\n",
        "\n",
        "Prévisualiser un certain nombre d'images du corpus : spécifier le nombre\n"
      ]
    },
    {
      "cell_type": "code",
      "metadata": {
        "id": "H_o2p_tS0u6k"
      },
      "source": [
        "nbimage = input(\"Spécifiez le nombre d'images à prévisualiser : \")\n",
        "preview_images(reference_data, int(nbimage))"
      ],
      "execution_count": null,
      "outputs": []
    },
    {
      "cell_type": "markdown",
      "metadata": {
        "id": "LygMlt--jY7d"
      },
      "source": [
        "##2. Requêtes d'images similaires sur un modèle\n"
      ]
    },
    {
      "cell_type": "markdown",
      "metadata": {
        "id": "RQPUGsZMy2D7"
      },
      "source": [
        "**2.1 Importer un modèle depuis son google Drive :** (Optionnel)\n",
        "\n",
        "Importer un modèle précédemment sauvegardé sur le Drive, sous forme d'un fichier .zip\n",
        "\n",
        "Si le modèle vient d'être créé et sauvegardé via l'étape 1, il n'est pas nécessaire de l'importer\n",
        "\n",
        "Exemple de chemin : /content/drive/My Drive/Outils_Modoap/Similarite/Modeles/monmodele.zip\n"
      ]
    },
    {
      "cell_type": "code",
      "metadata": {
        "id": "5NR0Im1_2VE-"
      },
      "source": [
        "fichier = input(\"Entrer le chemin absolu du fichier modèle .zip\")\n",
        "%cd /content/drive/My Drive/Outils_Modoap/Similarite/Modeles\n",
        "ds = ZipFile(fichier)\n",
        "ds.extractall()\n",
        "print(\"Modèle téléchargé et extrait\")\n",
        "\n",
        "reference_data = tc.load_sframe('/content/drive/My Drive/Outils_Modoap/Similarite/Modeles/reference_data.sframe')\n",
        "model = tc.load_model('/content/drive/My Drive/Outils_Modoap/Similarite/Modeles/image_similarity.model')\n",
        "print(\"Modèle et Sframe importés\")"
      ],
      "execution_count": null,
      "outputs": []
    },
    {
      "cell_type": "markdown",
      "metadata": {
        "id": "ld5Uf8BajWQ9"
      },
      "source": [
        "**2.2 Spécifier une image source**\n",
        "\n",
        "Une requête sur le modèle s'effectue à partir d'une image source. Lancer la cellule et spécifier l'url d'une image sur le web ou sur le Drive. \n",
        "\n",
        "Exemples :\n",
        "\n",
        "https://www.parismuseescollections.paris.fr/sites/default/files/styles/pm_notice/public/atoms/images/CAR/lpdp_77897-18.jpg\n",
        "\n",
        "ou :\n",
        "\n",
        "/content/drive/My Drive/Outils_Modoap/Corpus_demonstrations/corpus_similarite/BDIC_KAG_02679N_A27.jpg\n",
        "\n"
      ]
    },
    {
      "cell_type": "code",
      "metadata": {
        "id": "MYLIZyFhf_nH"
      },
      "source": [
        "image_url = input(\"Spécifiez l'url web de l'image : \")"
      ],
      "execution_count": null,
      "outputs": []
    },
    {
      "cell_type": "markdown",
      "metadata": {
        "id": "sXHd74tpgMQP"
      },
      "source": [
        "**2.3 Lancer la requête**\n",
        "\n",
        "Lancer la cellule et spécifier le nombre d'images les plus similaires à afficher.\n",
        "\n",
        "Les doublons seront sauvegardés dans /content/drive/My Drive/Outils_Modoap/Similarite/Doublons/\n",
        "\n",
        "Les n plus proches voisins seront affichés si le corpus a été importé.\n",
        "Sinon, seuls les noms seront retournés."
      ]
    },
    {
      "cell_type": "code",
      "metadata": {
        "id": "Z2vGvoXicmh6"
      },
      "source": [
        "print(\"url de l'image : \", image_url)\n",
        "sample_image = tc.Image(image_url)\n",
        "si_height = sample_image.height \n",
        "si_width = sample_image.width\n",
        "if int(si_height) > 600 :\n",
        "  sample_image = tc.image_analysis.resize(sample_image, 320, 240)\n",
        "  display(sample_image)\n",
        "else : \n",
        "  display(sample_image)\n",
        "\n",
        "userk = input(\"Spécifier le nombre d'images les plus similaires à afficher : \")\n",
        "\n",
        "print(\"-----------------------------------------\")\n",
        "\n",
        "query_results = model.query(sample_image, k=int(userk))\n",
        "similar_rows = query_results[query_results['query_label'] == 0]['reference_label']\n",
        "doublons_potentiels = [idi for idi in similar_rows if query_results[query_results['reference_label'] == idi]['distance'][0] < 10]\n",
        "similar_rows = [i for i in similar_rows if i not in doublons_potentiels]\n",
        "doublons_data = reference_data.filter_by(doublons_potentiels, 'id')\n",
        "similar_rows_data = reference_data.filter_by(similar_rows, 'id')\n",
        "similar_rows_data = similar_rows_data.filter_by(doublons_potentiels, 'id', exclude = True)\n",
        "if len(doublons_data) >= 1 :\n",
        "  print(\"--------------------------------------------------------------\")\n",
        "  print(\"Des doublons ont été repérés dans le corpus : \")\n",
        "  print(\"--------------------------------------------------------------\")\n",
        "  preview_images(doublons_data)\n",
        "\n",
        "  for doublon in doublons_potentiels :\n",
        "    chem1 = doublons_data[doublons_data['id'] == doublon]['path'][0]\n",
        "    nomf = \"/content/drive/My Drive/Outils_Modoap/Similarite/Doublons/\"+str(chem1.split(\"/\")[-1])\n",
        "    shutil.copyfile(chem1, nomf)\n",
        "  print(\"Les doublons ont été sauvés dans /content/drive/My Drive/Outils_Modoap/Similarite/Doublons \")\n",
        "\n",
        "print(\"--------------------------------------------------------------\")\n",
        "print(\"Les {} plus proches voisins sont : \".format(userk))\n",
        "print(\"--------------------------------------------------------------\")\n",
        "if os.path.isfile(similar_rows_data[0][\"path\"]) :\n",
        "  for idi in similar_rows :\n",
        "    chem1 = similar_rows_data[similar_rows_data['id'] == idi]['path'][0]   \n",
        "    piil = Image.open(chem1)\n",
        "    dist = query_results[query_results['reference_label'] == idi]['distance'][0]\n",
        "    print(\"index : \",idi)\n",
        "    print(\"chemin : \", chem1)\n",
        "    print(\"distance : \", dist)\n",
        "    display(piil)\n",
        "else :\n",
        "  for row in similar_rows_data :\n",
        "    print(row[\"path\"])\n",
        "  print(\"(Le corpus n'a pas été importé, impossible d'afficher les images) \")"
      ],
      "execution_count": null,
      "outputs": []
    },
    {
      "cell_type": "code",
      "metadata": {
        "id": "OFi8q7WZy9ru"
      },
      "source": [
        ""
      ],
      "execution_count": null,
      "outputs": []
    }
  ]
}